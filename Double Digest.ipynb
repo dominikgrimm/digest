{
 "cells": [
  {
   "cell_type": "markdown",
   "metadata": {},
   "source": [
    "# Double Digest Problem\n",
    "\n",
    "In diesem Beispiel betrachten wir das Double Digest Problem. \n",
    "Hierfür werden Restriktionsenzyme verwendet um die DNA in Fragmente unterschiedlicher Länge zu zerschneiden.  \n",
    "Mit Hilfe der Fragmente kann man dann eine physikalische Karte erstellen, welche die Reihenfolge der Fragmente darstellt. Für das Double Digest Problem werden zwei Restriktionsenzyme benötigt, Restriktionsenzym A und Restriktionsenzym B.  \n",
    "\n",
    "Das Double Digest Verfahren funktioniert wie folgt:  \n",
    "\n",
    "1. Erzeuge drei Kopien der DNA\n",
    "2. Wende die Restriktionsenzyme auf die DNA Kopien an:  \n",
    "    1. Wende Restriktionsenzym A auf die erste DNA Kopie an\n",
    "    2. Wende Restriktionsenzym B auf die zweite DNA Kopie an\n",
    "    3. Wende beide Restriktionsenzyme A + B auf die dritte Kopie an\n",
    "3. Bestimme für jede der Kopien die Längen der Fragmente und speichere diese in drei Listen, $set_a$, $set_b$ und $set_{ab}$\n",
    "4. Erstelle alle Permutationen für die Listen $set_a$ und $set_b$\n",
    "5. Berechne für alle möglichen Kombinationen der Permutationen in $set_a$ und $set_b$\n",
    "    1. die Positionen der Restriktionsstellen in $set_a$ und speichere diese in $pos_a$\n",
    "    2. die Positionen der Restriktionsstellen in $set_b$ und speichere diese in $pos_b$\n",
    "    3. die Vereinigung der Positionen von $pos_a$ und $pos_b$\n",
    "    4. die Distanzen zwischen allen Positionen in der Vereinigungsmenge\n",
    "    5. Vergleiche die Distanzen mit den Fragmentlängen aus $set_{ab}$. Falls die Mengen gleich sind ist eine gültige Lösung gefunden, welche wir in unserer Lösungsmenge speichern\n",
    "    \n",
    "Der Algorithmus findet alle möglichen Lösungen."
   ]
  },
  {
   "cell_type": "markdown",
   "metadata": {},
   "source": [
    "### Code Double Digest Problem"
   ]
  },
  {
   "cell_type": "code",
   "execution_count": 1,
   "metadata": {
    "collapsed": true
   },
   "outputs": [],
   "source": [
    "%matplotlib inline  \n",
    "import scipy as sp\n",
    "import itertools\n",
    "import pylab as pl\n",
    "import matplotlib.patches as patches\n",
    "\n",
    "'''\n",
    "Finde alle möglichen Lösung mittels Double Digest\n",
    "'''\n",
    "def double_digest(set_a, set_b, set_ab):\n",
    "    set_ab = sp.sort(set_ab)\n",
    "    #erstelle alle möglichen Permutationen von set_a und set_b\n",
    "    permsA = itertools.permutations(set_a)\n",
    "    permsB = itertools.permutations(set_b)\n",
    "    \n",
    "    results = []\n",
    "    for permA, permB in itertools.product(permsA,permsB):\n",
    "        #berechne Positionen für Permutation A\n",
    "        posA = sp.cumsum(permA)\n",
    "        #berechne Positionen für Permutation B\n",
    "        posB = sp.cumsum(permB)\n",
    "        #Bilde Schnittmenge zwischen posA und posB\n",
    "        pos = sp.union1d(posA,posB)\n",
    "        #Berechne inverse CumSum bzw. Distanzen zwischen allen Positionen in \"pos\"\n",
    "        dists = pos.copy()\n",
    "        dists[1:] = sp.diff(pos)\n",
    "\n",
    "        if dists.shape[0]!=set_ab.shape[0]:\n",
    "            continue\n",
    "        #Falls die Permutierte Distanzliste gleich der Menge der doppelt verdauten Liste enspricht\n",
    "        #ist eine gültige Lösung gefunden\n",
    "        if sp.all(sp.equal(sp.sort(dists),set_ab)):\n",
    "            #if not {\"permA\":permA,\"permB\":permB,\"positions\":pos} in results:\n",
    "            results.append({\"posA\":posA,\"posB\":posB,\"positions\":pos})\n",
    "    return results\n",
    "\n",
    "'''\n",
    "Plotte Marker\n",
    "'''\n",
    "def plot_markers(positions=None,level=1,label=None,color=\"b\",fig_obj=None):\n",
    "    pl.axhline(level,color=color,label=label)\n",
    "    for pos in positions:\n",
    "        fig_obj.add_patch(patches.Rectangle((pos, level-0.25),2,0.5,color=\"k\"))\n",
    "\n",
    "'''\n",
    "Plotte Double Digest Lösung\n",
    "'''\n",
    "def plot_solutions(results=None):\n",
    "    for i,res in enumerate(results):\n",
    "        pl.figure(figsize=(15,5))\n",
    "        fig = pl.subplot(1,1,1)\n",
    "        \n",
    "        plot_markers(positions=res['positions'],level=1,\n",
    "                     label=\"Enzym A+B\",color=\"b\",\n",
    "                     fig_obj=fig)\n",
    "        \n",
    "        plot_markers(positions=res['posB'],level=2,\n",
    "                     label=\"Enzym B\",color=\"r\",\n",
    "                     fig_obj=fig)\n",
    "        \n",
    "        plot_markers(positions=res['posA'],level=3,\n",
    "                     label=\"Enzym A\",color=\"y\",\n",
    "                     fig_obj=fig)\n",
    "        \n",
    "        pl.ylim(0,4)\n",
    "        pl.xlim(0,res['positions'].max())\n",
    "        pl.xlabel(\"Position (kb)\", fontsize=14)\n",
    "        pl.yticks([1,2,3],[\"Enzym A+B\",\"Enzym B\",\"Enzym A\"],fontsize=14)\n",
    "        pl.title(\"Loesung %d\"%(i+1),fontsize=14)\n",
    "        pl.tight_layout()"
   ]
  },
  {
   "cell_type": "markdown",
   "metadata": {},
   "source": [
    "## Beispiel"
   ]
  },
  {
   "cell_type": "code",
   "execution_count": 2,
   "metadata": {},
   "outputs": [
    {
     "name": "stdout",
     "output_type": "stream",
     "text": [
      "Positionen Enzym A:\t[ 20 220 620 720]\n",
      "Positionen Enzym B:\t[ 50 300 450 670]\n",
      "Loesung 1:\t\t[ 20  50 220 300 450 620 670 720]\n",
      "\n",
      "Positionen Enzym A:\t[100 500 700 720]\n",
      "Positionen Enzym B:\t[ 50 270 420 670]\n",
      "Loesung 2:\t\t[ 50 100 270 420 500 670 700 720]\n",
      "\n"
     ]
    },
    {
     "data": {
      "image/png": "[encoded data removed]",
      "text/plain": [
       "<matplotlib.figure.Figure at 0x104b97710>"
      ]
     },
     "metadata": {},
     "output_type": "display_data"
    },
    {
     "data": {
      "image/png": "[encoded data removed]",
      "text/plain": [
       "<matplotlib.figure.Figure at 0x106027890>"
      ]
     },
     "metadata": {},
     "output_type": "display_data"
    }
   ],
   "source": [
    "set_a = sp.array([20,100,200,400])\n",
    "set_b = sp.array([50,150,220,250])\n",
    "set_ab = sp.array([20,30,50,50,80,150,170,170])\n",
    "\n",
    "#Berechne Lösungen\n",
    "results = double_digest(set_a,set_b,set_ab)\n",
    "#Plotte Lösungen\n",
    "plot_solutions(results)\n",
    "\n",
    "for i,result in enumerate(results):\n",
    "    print(\"Positionen Enzym A:\\t%s\"%(result['posA']))\n",
    "    print(\"Positionen Enzym B:\\t%s\"%(result['posB']))\n",
    "    print(\"Loesung %d:\\t\\t%s\"%(i+1,result['positions']))\n",
    "    print"
   ]
  },
  {
   "cell_type": "code",
   "execution_count": null,
   "metadata": {
    "collapsed": true
   },
   "outputs": [],
   "source": []
  }
 ],
 "metadata": {
  "kernelspec": {
   "display_name": "Python 2",
   "language": "python",
   "name": "python2"
  },
  "language_info": {
   "codemirror_mode": {
    "name": "ipython",
    "version": 2
   },
   "file_extension": ".py",
   "mimetype": "text/x-python",
   "name": "python",
   "nbconvert_exporter": "python",
   "pygments_lexer": "ipython2",
   "version": "2.7.10"
  }
 },
 "nbformat": 4,
 "nbformat_minor": 2
}
